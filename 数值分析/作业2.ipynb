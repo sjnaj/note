{
 "cells": [
  {
   "cell_type": "markdown",
   "metadata": {},
   "source": [
    "布封实验"
   ]
  },
  {
   "cell_type": "code",
   "execution_count": 65,
   "metadata": {},
   "outputs": [
    {
     "name": "stdout",
     "output_type": "stream",
     "text": [
      "\n",
      "ans =\n",
      "\n",
      "    0.3190\n",
      "\n",
      "\n",
      "ans =\n",
      "\n",
      "   7.1011e-04\n",
      "\n"
     ]
    }
   ],
   "source": [
    "a=2;\n",
    "l=1;\n",
    "cnt=0;\n",
    "N=100000;\n",
    "for i=1:N\n",
    "    h=rand().*a./2;\n",
    "    d=rand().*pi;\n",
    "    if l/2.*sin(d)>=h\n",
    "        cnt=cnt+1;\n",
    "    end\n",
    "end\n",
    "cnt./N\n",
    "abs(cnt/N-2.*l./pi./a)\n"
   ]
  },
  {
   "cell_type": "markdown",
   "metadata": {},
   "source": [
    "求方程$x^3-3x+1=0$的根"
   ]
  },
  {
   "cell_type": "code",
   "execution_count": 38,
   "metadata": {},
   "outputs": [
    {
     "name": "stdout",
     "output_type": "stream",
     "text": [
      "\n",
      "x =\n",
      "\n",
      "    1.8794\n",
      "\n"
     ]
    }
   ],
   "source": [
    "for i=1:1000000\n",
    "    x=rand()+1;\n",
    "    if abs(x^3-3*x-1)<1e-4\n",
    "        x\n",
    "        break\n",
    "    end\n",
    "end\n"
   ]
  },
  {
   "cell_type": "markdown",
   "metadata": {},
   "source": [
    "求$\\int_0^\\pi\\int_0^1ycos(xy)dxdy$"
   ]
  },
  {
   "cell_type": "code",
   "execution_count": 40,
   "metadata": {},
   "outputs": [
    {
     "name": "stdout",
     "output_type": "stream",
     "text": [
      "standard answer: 2.000000\n",
      "\n",
      "ans =\n",
      "\n",
      "    1.9952\n",
      "\n"
     ]
    }
   ],
   "source": [
    "f = @(x, y)y .* cos(x .* y);\n",
    "N = 1000000;\n",
    "\n",
    "n = 0;\n",
    "V = 1 .* pi .* pi;\n",
    "fprintf(\"standard answer: %f\\n\",integral2(f,0,1,0,pi));\n",
    "for i = 1:N\n",
    "    x = rand();\n",
    "    y = rand() .* pi;\n",
    "    z = rand() .* pi;\n",
    "\n",
    "    if f(x, y) > 0 && z <= f(x, y)\n",
    "        n = n + 1;\n",
    "    elseif f(x, y) < 0 && z <= -f(x, y)%注意elseif是连在一起的\n",
    "        n = n - 1;\n",
    "    end\n",
    "\n",
    "end\n",
    "\n",
    "n .* V ./ N\n"
   ]
  },
  {
   "cell_type": "markdown",
   "metadata": {},
   "source": [
    "计算$\\int_0^1\\int_0^{1-x}\\int_0^{1-x-y}dxdydz$"
   ]
  },
  {
   "cell_type": "code",
   "execution_count": 39,
   "metadata": {},
   "outputs": [
    {
     "name": "stdout",
     "output_type": "stream",
     "text": [
      "standard answer:0.041667\n",
      "\n",
      "ans =\n",
      "\n",
      "    0.0414\n",
      "\n"
     ]
    }
   ],
   "source": [
    "f=@(x,y,z)z;\n",
    "in_bounds=@(x,y,z)y<=1-x&&z<=1-x-y;\n",
    "n = 0;\n",
    "V = 1 ;\n",
    "N=1000000;\n",
    "fprintf(\"standard answer:%f\\n\",integral3(f,0,1,0,@(x)1-x,0,@(x,y)1-x-y));\n",
    "for i = 1:N\n",
    "    x = rand();\n",
    "    y = rand();\n",
    "    z = rand();\n",
    "    val= rand();\n",
    "    if val<=f(x,y,z)&&in_bounds(x,y,z)\n",
    "        n=n+1;\n",
    "    end\n",
    "end\n",
    "\n",
    "n .* V ./ N"
   ]
  },
  {
   "cell_type": "markdown",
   "metadata": {},
   "source": [
    "鸭子问题\n",
    "\n",
    "鸭子在圆形区域的面积为随机的，以弧度划分位置，细度设为$\\frac{1}{2\\pi}$,选定0刻度和正方向，如果两两相邻的鸭子之间间隔存在大于$\\pi$的则在一个半圆内\n",
    "\n",
    "编程模拟时可通过排序使其相邻"
   ]
  },
  {
   "cell_type": "code",
   "execution_count": 62,
   "metadata": {},
   "outputs": [
    {
     "name": "stdout",
     "output_type": "stream",
     "text": [
      "\n",
      "ans =\n",
      "\n",
      "    0.4994\n",
      "\n"
     ]
    }
   ],
   "source": [
    "n = 0;\n",
    "N = 100000;\n",
    "\n",
    "for i = 1:N\n",
    "    X = sort([rand() .* 2 .* pi, rand() .* 2 .* pi, rand() .* 2 .* pi, rand() .* 2 .* pi]);\n",
    "\n",
    "    if ~isempty(find(diff(X) > pi))|| X(4) - X(1) < pi\n",
    "        n = n + 1;\n",
    "    end\n",
    "\n",
    "end\n",
    "\n",
    "n ./ N\n"
   ]
  }
 ],
 "metadata": {
  "kernelspec": {
   "display_name": "Matlab",
   "language": "matlab",
   "name": "matlab"
  },
  "language_info": {
   "codemirror_mode": "octave",
   "file_extension": ".m",
   "help_links": [
    {
     "text": "MetaKernel Magics",
     "url": "https://metakernel.readthedocs.io/en/latest/source/README.html"
    }
   ],
   "mimetype": "text/x-octave",
   "name": "matlab",
   "version": "0.16.11"
  },
  "orig_nbformat": 4
 },
 "nbformat": 4,
 "nbformat_minor": 2
}
